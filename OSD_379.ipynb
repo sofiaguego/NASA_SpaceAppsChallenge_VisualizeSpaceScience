{
 "cells": [
  {
   "cell_type": "markdown",
   "id": "8fbd4ed1",
   "metadata": {},
   "source": [
    "\n",
    "#OSD-376 Metadata"
   ]
  },
  {
   "cell_type": "code",
   "execution_count": 6,
   "id": "989a7423",
   "metadata": {},
   "outputs": [],
   "source": [
    "import pandas as pd\n",
    "import plotly"
   ]
  },
  {
   "cell_type": "code",
   "execution_count": 44,
   "id": "5bb4d315",
   "metadata": {},
   "outputs": [],
   "source": [
    "#osd_liver = pd.read_csv(\"C:\\\\Users\\\\14385\\\\Desktop\\\\GeminiLab\\\\s_OSD-379.csv.csv\")\n",
    "osd_liver = pd.read_csv(\"C:\\\\Users\\\\14385\\\\Downloads\\\\s_OSD-379 (1).csv\")\n",
    "#osd_liver = pd.read_csv(\"C:\\\\Users\\\\14385\\\\Downloads\\\\a_OSD-379_transcription-profiling_rna-sequencing-_rna-seq__Illumina-NovaSeq.csv\")"
   ]
  },
  {
   "cell_type": "code",
   "execution_count": 45,
   "id": "8086e3d1",
   "metadata": {},
   "outputs": [
    {
     "data": {
      "text/plain": [
       "(141, 61)"
      ]
     },
     "execution_count": 45,
     "metadata": {},
     "output_type": "execute_result"
    }
   ],
   "source": [
    "osd_liver.shape"
   ]
  },
  {
   "cell_type": "code",
   "execution_count": 46,
   "id": "2510ff50",
   "metadata": {},
   "outputs": [
    {
     "data": {
      "text/plain": [
       "Source Name                                    object\n",
       "Sample Name                                    object\n",
       "Characteristics[Organism]                      object\n",
       "Term Source REF                                object\n",
       "Term Accession Number                          object\n",
       "                                                ...  \n",
       "Term Accession Number.14                       object\n",
       "Parameter Value[Sample Storage Temperature]     int64\n",
       "Unit.3                                         object\n",
       "Term Source REF.15                             object\n",
       "Term Accession Number.15                       object\n",
       "Length: 61, dtype: object"
      ]
     },
     "execution_count": 46,
     "metadata": {},
     "output_type": "execute_result"
    }
   ],
   "source": [
    "osd_liver.dtypes"
   ]
  },
  {
   "cell_type": "code",
   "execution_count": 47,
   "id": "0fe12984",
   "metadata": {},
   "outputs": [
    {
     "data": {
      "text/plain": [
       "Index(['Source Name', 'Sample Name', 'Characteristics[Organism]',\n",
       "       'Term Source REF', 'Term Accession Number', 'Characteristics[Strain]',\n",
       "       'Term Source REF.1', 'Term Accession Number.1',\n",
       "       'Characteristics[Genotype]', 'Term Source REF.2',\n",
       "       'Term Accession Number.2', 'Characteristics[Sex]', 'Term Source REF.3',\n",
       "       'Term Accession Number.3', 'Characteristics[Material Type]',\n",
       "       'Term Source REF.4', 'Term Accession Number.4',\n",
       "       'Factor Value[Spaceflight]', 'Term Source REF.5',\n",
       "       'Term Accession Number.5', 'Factor Value[Duration]', 'Unit',\n",
       "       'Term Source REF.6', 'Term Accession Number.6',\n",
       "       'Characteristics[Animal Source]', 'Factor Value[Euthanasia Location]',\n",
       "       'Term Source REF.7', 'Term Accession Number.7',\n",
       "       'Factor Value[Dissection Condition]', 'Term Source REF.8',\n",
       "       'Term Accession Number.8', 'Factor Value[Age]', 'Unit.1',\n",
       "       'Term Source REF.9', 'Term Accession Number.9', 'Protocol REF',\n",
       "       'Parameter Value[Light Cycle]', 'Parameter Value[Diet]',\n",
       "       'Term Source REF.10', 'Term Accession Number.10',\n",
       "       'Parameter Value[Feeding Schedule]', 'Term Source REF.11',\n",
       "       'Term Accession Number.11', 'Protocol REF.1',\n",
       "       'Comment[LAR Animal Receipt Date at Scrippts]',\n",
       "       'Comment[Euthanasia Dates]', 'Comment[Dissection Dates]',\n",
       "       'Parameter Value[Euthanasia Method]', 'Term Source REF.12',\n",
       "       'Term Accession Number.12',\n",
       "       'Parameter Value[Carcass Preservation Method]', 'Unit.2',\n",
       "       'Term Source REF.13', 'Term Accession Number.13',\n",
       "       'Parameter Value[Sample Preservation Method]', 'Term Source REF.14',\n",
       "       'Term Accession Number.14',\n",
       "       'Parameter Value[Sample Storage Temperature]', 'Unit.3',\n",
       "       'Term Source REF.15', 'Term Accession Number.15'],\n",
       "      dtype='object')"
      ]
     },
     "execution_count": 47,
     "metadata": {},
     "output_type": "execute_result"
    }
   ],
   "source": [
    "osd_liver.columns"
   ]
  },
  {
   "cell_type": "code",
   "execution_count": 48,
   "id": "c7205f94",
   "metadata": {},
   "outputs": [
    {
     "data": {
      "text/plain": [
       "array(['On Earth', 'On ISS'], dtype=object)"
      ]
     },
     "execution_count": 48,
     "metadata": {},
     "output_type": "execute_result"
    }
   ],
   "source": [
    "osd_liver['Factor Value[Euthanasia Location]'].unique()"
   ]
  },
  {
   "cell_type": "code",
   "execution_count": 52,
   "id": "e17eddcf",
   "metadata": {},
   "outputs": [
    {
     "data": {
      "text/plain": [
       "array(['Left Lobe of the Liver'], dtype=object)"
      ]
     },
     "execution_count": 52,
     "metadata": {},
     "output_type": "execute_result"
    }
   ],
   "source": [
    "osd_liver['Characteristics[Material Type]'].unique()"
   ]
  },
  {
   "cell_type": "code",
   "execution_count": 53,
   "id": "6185259b",
   "metadata": {},
   "outputs": [
    {
     "data": {
      "text/plain": [
       "np.int64(33)"
      ]
     },
     "execution_count": 53,
     "metadata": {},
     "output_type": "execute_result"
    }
   ],
   "source": [
    "#count occurrences of vivarium control \n",
    "vivarium_count = osd_liver[\"Factor Value[Spaceflight]\"].str.contains(\"vivarium\", case=False).sum()\n",
    "vivarium_count"
   ]
  },
  {
   "cell_type": "code",
   "execution_count": 54,
   "id": "0764fe75",
   "metadata": {},
   "outputs": [
    {
     "data": {
      "text/plain": [
       "np.int64(38)"
      ]
     },
     "execution_count": 54,
     "metadata": {},
     "output_type": "execute_result"
    }
   ],
   "source": [
    "basal_control = osd_liver[\"Factor Value[Spaceflight]\"].str.contains(\"basal control\", case=False).sum()\n",
    "basal_control"
   ]
  },
  {
   "cell_type": "code",
   "execution_count": 55,
   "id": "c6d6d6b5",
   "metadata": {},
   "outputs": [
    {
     "data": {
      "text/plain": [
       "0      RR8_LVR_BSL_ISS-T_OLD_BI1\n",
       "1      RR8_LVR_BSL_ISS-T_OLD_BI2\n",
       "2      RR8_LVR_BSL_ISS-T_OLD_BI3\n",
       "3      RR8_LVR_BSL_ISS-T_OLD_BI4\n",
       "4      RR8_LVR_BSL_ISS-T_OLD_BI5\n",
       "                 ...            \n",
       "136     RR8_LVR_VIV_LAR_OLD_VL15\n",
       "137     RR8_LVR_VIV_LAR_OLD_VL16\n",
       "138     RR8_LVR_VIV_LAR_YNG_VL17\n",
       "139     RR8_LVR_VIV_LAR_YNG_VL18\n",
       "140     RR8_LVR_VIV_LAR_OLD_VL20\n",
       "Name: Sample Name, Length: 141, dtype: object"
      ]
     },
     "execution_count": 55,
     "metadata": {},
     "output_type": "execute_result"
    }
   ],
   "source": [
    "osd_liver[\"Sample Name\"]"
   ]
  },
  {
   "cell_type": "code",
   "execution_count": 56,
   "id": "1bec5359",
   "metadata": {},
   "outputs": [
    {
     "name": "stdout",
     "output_type": "stream",
     "text": [
      " 'Source Name' and '0'\n",
      " 'Sample Name' and '0'\n",
      " 'Factor Value[Spaceflight]' and '137'\n",
      " 'Term Source REF.5' and '139'\n",
      " 'Term Accession Number.5' and '139'\n",
      " 'Factor Value[Duration]' and '136'\n",
      " 'Factor Value[Euthanasia Location]' and '139'\n",
      " 'Factor Value[Dissection Condition]' and '139'\n",
      " 'Factor Value[Age]' and '139'\n",
      " 'Comment[LAR Animal Receipt Date at Scrippts]' and '139'\n",
      " 'Comment[Euthanasia Dates]' and '133'\n",
      " 'Comment[Dissection Dates]' and '133'\n",
      " 'Parameter Value[Carcass Preservation Method]' and '139'\n",
      " 'Unit.2' and '139'\n",
      " 'Term Source REF.13' and '139'\n",
      " 'Term Accession Number.13' and '139'\n"
     ]
    }
   ],
   "source": [
    "for column in osd_liver.columns:\n",
    "    duplicate_count = osd_liver[column].duplicated().sum() \n",
    "    if duplicate_count < 140:\n",
    "        print(f\" '{column}' and '{duplicate_count}'\")"
   ]
  },
  {
   "cell_type": "code",
   "execution_count": 57,
   "id": "13dd5b9e",
   "metadata": {},
   "outputs": [],
   "source": [
    "selected_columns = ['Sample Name', 'Characteristics[Organism]','Characteristics[Sex]','Characteristics[Material Type]',\n",
    " 'Factor Value[Spaceflight]',  \n",
    " 'Factor Value[Duration]' ,\n",
    " 'Factor Value[Euthanasia Location]' ,\n",
    " 'Factor Value[Dissection Condition]', \n",
    " 'Factor Value[Age]', \n",
    " 'Parameter Value[Carcass Preservation Method]']"
   ]
  },
  {
   "cell_type": "code",
   "execution_count": 58,
   "id": "daf04af8",
   "metadata": {},
   "outputs": [],
   "source": [
    "new_osd_liver = osd_liver[selected_columns].copy()"
   ]
  },
  {
   "cell_type": "code",
   "execution_count": 59,
   "id": "fe73039a",
   "metadata": {},
   "outputs": [],
   "source": [
    "selected_columns = ['Sample Name',\n",
    " 'Factor Value[Spaceflight]',  \n",
    " 'Factor Value[Duration]','Factor Value[Age]','Factor Value[Euthanasia Location]']"
   ]
  },
  {
   "cell_type": "code",
   "execution_count": 60,
   "id": "ed53bfea",
   "metadata": {},
   "outputs": [
    {
     "data": {
      "text/html": [
       "<div>\n",
       "<style scoped>\n",
       "    .dataframe tbody tr th:only-of-type {\n",
       "        vertical-align: middle;\n",
       "    }\n",
       "\n",
       "    .dataframe tbody tr th {\n",
       "        vertical-align: top;\n",
       "    }\n",
       "\n",
       "    .dataframe thead th {\n",
       "        text-align: right;\n",
       "    }\n",
       "</style>\n",
       "<table border=\"1\" class=\"dataframe\">\n",
       "  <thead>\n",
       "    <tr style=\"text-align: right;\">\n",
       "      <th></th>\n",
       "      <th>Sample Name</th>\n",
       "      <th>Factor Value[Spaceflight]</th>\n",
       "      <th>Factor Value[Duration]</th>\n",
       "      <th>Factor Value[Age]</th>\n",
       "      <th>Factor Value[Euthanasia Location]</th>\n",
       "    </tr>\n",
       "  </thead>\n",
       "  <tbody>\n",
       "    <tr>\n",
       "      <th>0</th>\n",
       "      <td>RR8_LVR_BSL_ISS-T_OLD_BI1</td>\n",
       "      <td>Basal Control</td>\n",
       "      <td>0</td>\n",
       "      <td>32</td>\n",
       "      <td>On Earth</td>\n",
       "    </tr>\n",
       "    <tr>\n",
       "      <th>1</th>\n",
       "      <td>RR8_LVR_BSL_ISS-T_OLD_BI2</td>\n",
       "      <td>Basal Control</td>\n",
       "      <td>0</td>\n",
       "      <td>32</td>\n",
       "      <td>On Earth</td>\n",
       "    </tr>\n",
       "    <tr>\n",
       "      <th>2</th>\n",
       "      <td>RR8_LVR_BSL_ISS-T_OLD_BI3</td>\n",
       "      <td>Basal Control</td>\n",
       "      <td>0</td>\n",
       "      <td>32</td>\n",
       "      <td>On Earth</td>\n",
       "    </tr>\n",
       "    <tr>\n",
       "      <th>3</th>\n",
       "      <td>RR8_LVR_BSL_ISS-T_OLD_BI4</td>\n",
       "      <td>Basal Control</td>\n",
       "      <td>0</td>\n",
       "      <td>32</td>\n",
       "      <td>On Earth</td>\n",
       "    </tr>\n",
       "    <tr>\n",
       "      <th>4</th>\n",
       "      <td>RR8_LVR_BSL_ISS-T_OLD_BI5</td>\n",
       "      <td>Basal Control</td>\n",
       "      <td>0</td>\n",
       "      <td>32</td>\n",
       "      <td>On Earth</td>\n",
       "    </tr>\n",
       "    <tr>\n",
       "      <th>...</th>\n",
       "      <td>...</td>\n",
       "      <td>...</td>\n",
       "      <td>...</td>\n",
       "      <td>...</td>\n",
       "      <td>...</td>\n",
       "    </tr>\n",
       "    <tr>\n",
       "      <th>136</th>\n",
       "      <td>RR8_LVR_VIV_LAR_OLD_VL15</td>\n",
       "      <td>Vivarium Control</td>\n",
       "      <td>~40</td>\n",
       "      <td>32</td>\n",
       "      <td>On Earth</td>\n",
       "    </tr>\n",
       "    <tr>\n",
       "      <th>137</th>\n",
       "      <td>RR8_LVR_VIV_LAR_OLD_VL16</td>\n",
       "      <td>Vivarium Control</td>\n",
       "      <td>~40</td>\n",
       "      <td>32</td>\n",
       "      <td>On Earth</td>\n",
       "    </tr>\n",
       "    <tr>\n",
       "      <th>138</th>\n",
       "      <td>RR8_LVR_VIV_LAR_YNG_VL17</td>\n",
       "      <td>Vivarium Control</td>\n",
       "      <td>~40</td>\n",
       "      <td>10 to 12</td>\n",
       "      <td>On Earth</td>\n",
       "    </tr>\n",
       "    <tr>\n",
       "      <th>139</th>\n",
       "      <td>RR8_LVR_VIV_LAR_YNG_VL18</td>\n",
       "      <td>Vivarium Control</td>\n",
       "      <td>~40</td>\n",
       "      <td>10 to 12</td>\n",
       "      <td>On Earth</td>\n",
       "    </tr>\n",
       "    <tr>\n",
       "      <th>140</th>\n",
       "      <td>RR8_LVR_VIV_LAR_OLD_VL20</td>\n",
       "      <td>Vivarium Control</td>\n",
       "      <td>~40</td>\n",
       "      <td>32</td>\n",
       "      <td>On Earth</td>\n",
       "    </tr>\n",
       "  </tbody>\n",
       "</table>\n",
       "<p>141 rows × 5 columns</p>\n",
       "</div>"
      ],
      "text/plain": [
       "                   Sample Name Factor Value[Spaceflight]  \\\n",
       "0    RR8_LVR_BSL_ISS-T_OLD_BI1             Basal Control   \n",
       "1    RR8_LVR_BSL_ISS-T_OLD_BI2             Basal Control   \n",
       "2    RR8_LVR_BSL_ISS-T_OLD_BI3             Basal Control   \n",
       "3    RR8_LVR_BSL_ISS-T_OLD_BI4             Basal Control   \n",
       "4    RR8_LVR_BSL_ISS-T_OLD_BI5             Basal Control   \n",
       "..                         ...                       ...   \n",
       "136   RR8_LVR_VIV_LAR_OLD_VL15          Vivarium Control   \n",
       "137   RR8_LVR_VIV_LAR_OLD_VL16          Vivarium Control   \n",
       "138   RR8_LVR_VIV_LAR_YNG_VL17          Vivarium Control   \n",
       "139   RR8_LVR_VIV_LAR_YNG_VL18          Vivarium Control   \n",
       "140   RR8_LVR_VIV_LAR_OLD_VL20          Vivarium Control   \n",
       "\n",
       "    Factor Value[Duration] Factor Value[Age] Factor Value[Euthanasia Location]  \n",
       "0                        0                32                          On Earth  \n",
       "1                        0                32                          On Earth  \n",
       "2                        0                32                          On Earth  \n",
       "3                        0                32                          On Earth  \n",
       "4                        0                32                          On Earth  \n",
       "..                     ...               ...                               ...  \n",
       "136                    ~40                32                          On Earth  \n",
       "137                    ~40                32                          On Earth  \n",
       "138                    ~40          10 to 12                          On Earth  \n",
       "139                    ~40          10 to 12                          On Earth  \n",
       "140                    ~40                32                          On Earth  \n",
       "\n",
       "[141 rows x 5 columns]"
      ]
     },
     "execution_count": 60,
     "metadata": {},
     "output_type": "execute_result"
    }
   ],
   "source": [
    "space_fligth = new_osd_liver[selected_columns].copy()\n",
    "space_fligth"
   ]
  },
  {
   "cell_type": "code",
   "execution_count": 70,
   "id": "86502e93",
   "metadata": {},
   "outputs": [
    {
     "ename": "SyntaxError",
     "evalue": "expected 'else' after 'if' expression (4015299099.py, line 1)",
     "output_type": "error",
     "traceback": [
      "\u001b[1;36m  Cell \u001b[1;32mIn[70], line 1\u001b[1;36m\u001b[0m\n\u001b[1;33m    space_fligth['Age Category'] = space_fligth['Factor Value[Age]'].apply(lambda x: 'Old' if x => 32 else 'Young')\u001b[0m\n\u001b[1;37m                                                                                     ^\u001b[0m\n\u001b[1;31mSyntaxError\u001b[0m\u001b[1;31m:\u001b[0m expected 'else' after 'if' expression\n"
     ]
    }
   ],
   "source": [
    "space_fligth['Age Category'] = space_fligth['Factor Value[Age]'].apply(lambda x: 'Old' if x => 32 else 'Young')\n",
    "space_fligth.copy()"
   ]
  },
  {
   "cell_type": "code",
   "execution_count": 62,
   "id": "a8b90070",
   "metadata": {},
   "outputs": [
    {
     "data": {
      "text/html": [
       "<div>\n",
       "<style scoped>\n",
       "    .dataframe tbody tr th:only-of-type {\n",
       "        vertical-align: middle;\n",
       "    }\n",
       "\n",
       "    .dataframe tbody tr th {\n",
       "        vertical-align: top;\n",
       "    }\n",
       "\n",
       "    .dataframe thead th {\n",
       "        text-align: right;\n",
       "    }\n",
       "</style>\n",
       "<table border=\"1\" class=\"dataframe\">\n",
       "  <thead>\n",
       "    <tr style=\"text-align: right;\">\n",
       "      <th></th>\n",
       "      <th>Sample Name</th>\n",
       "      <th>Factor Value[Spaceflight]</th>\n",
       "      <th>Factor Value[Duration]</th>\n",
       "      <th>Factor Value[Age]</th>\n",
       "      <th>Factor Value[Euthanasia Location]</th>\n",
       "      <th>Age Category</th>\n",
       "    </tr>\n",
       "  </thead>\n",
       "  <tbody>\n",
       "    <tr>\n",
       "      <th>0</th>\n",
       "      <td>RR8_LVR_BSL_ISS-T_OLD_BI1</td>\n",
       "      <td>Basal Control</td>\n",
       "      <td>0</td>\n",
       "      <td>32.0</td>\n",
       "      <td>On Earth</td>\n",
       "      <td>Old</td>\n",
       "    </tr>\n",
       "    <tr>\n",
       "      <th>1</th>\n",
       "      <td>RR8_LVR_BSL_ISS-T_OLD_BI2</td>\n",
       "      <td>Basal Control</td>\n",
       "      <td>0</td>\n",
       "      <td>32.0</td>\n",
       "      <td>On Earth</td>\n",
       "      <td>Old</td>\n",
       "    </tr>\n",
       "    <tr>\n",
       "      <th>2</th>\n",
       "      <td>RR8_LVR_BSL_ISS-T_OLD_BI3</td>\n",
       "      <td>Basal Control</td>\n",
       "      <td>0</td>\n",
       "      <td>32.0</td>\n",
       "      <td>On Earth</td>\n",
       "      <td>Old</td>\n",
       "    </tr>\n",
       "    <tr>\n",
       "      <th>3</th>\n",
       "      <td>RR8_LVR_BSL_ISS-T_OLD_BI4</td>\n",
       "      <td>Basal Control</td>\n",
       "      <td>0</td>\n",
       "      <td>32.0</td>\n",
       "      <td>On Earth</td>\n",
       "      <td>Old</td>\n",
       "    </tr>\n",
       "    <tr>\n",
       "      <th>4</th>\n",
       "      <td>RR8_LVR_BSL_ISS-T_OLD_BI5</td>\n",
       "      <td>Basal Control</td>\n",
       "      <td>0</td>\n",
       "      <td>32.0</td>\n",
       "      <td>On Earth</td>\n",
       "      <td>Old</td>\n",
       "    </tr>\n",
       "    <tr>\n",
       "      <th>...</th>\n",
       "      <td>...</td>\n",
       "      <td>...</td>\n",
       "      <td>...</td>\n",
       "      <td>...</td>\n",
       "      <td>...</td>\n",
       "      <td>...</td>\n",
       "    </tr>\n",
       "    <tr>\n",
       "      <th>136</th>\n",
       "      <td>RR8_LVR_VIV_LAR_OLD_VL15</td>\n",
       "      <td>Vivarium Control</td>\n",
       "      <td>~40</td>\n",
       "      <td>32.0</td>\n",
       "      <td>On Earth</td>\n",
       "      <td>Old</td>\n",
       "    </tr>\n",
       "    <tr>\n",
       "      <th>137</th>\n",
       "      <td>RR8_LVR_VIV_LAR_OLD_VL16</td>\n",
       "      <td>Vivarium Control</td>\n",
       "      <td>~40</td>\n",
       "      <td>32.0</td>\n",
       "      <td>On Earth</td>\n",
       "      <td>Old</td>\n",
       "    </tr>\n",
       "    <tr>\n",
       "      <th>138</th>\n",
       "      <td>RR8_LVR_VIV_LAR_YNG_VL17</td>\n",
       "      <td>Vivarium Control</td>\n",
       "      <td>~40</td>\n",
       "      <td>NaN</td>\n",
       "      <td>On Earth</td>\n",
       "      <td>Young</td>\n",
       "    </tr>\n",
       "    <tr>\n",
       "      <th>139</th>\n",
       "      <td>RR8_LVR_VIV_LAR_YNG_VL18</td>\n",
       "      <td>Vivarium Control</td>\n",
       "      <td>~40</td>\n",
       "      <td>NaN</td>\n",
       "      <td>On Earth</td>\n",
       "      <td>Young</td>\n",
       "    </tr>\n",
       "    <tr>\n",
       "      <th>140</th>\n",
       "      <td>RR8_LVR_VIV_LAR_OLD_VL20</td>\n",
       "      <td>Vivarium Control</td>\n",
       "      <td>~40</td>\n",
       "      <td>32.0</td>\n",
       "      <td>On Earth</td>\n",
       "      <td>Old</td>\n",
       "    </tr>\n",
       "  </tbody>\n",
       "</table>\n",
       "<p>141 rows × 6 columns</p>\n",
       "</div>"
      ],
      "text/plain": [
       "                   Sample Name Factor Value[Spaceflight]  \\\n",
       "0    RR8_LVR_BSL_ISS-T_OLD_BI1             Basal Control   \n",
       "1    RR8_LVR_BSL_ISS-T_OLD_BI2             Basal Control   \n",
       "2    RR8_LVR_BSL_ISS-T_OLD_BI3             Basal Control   \n",
       "3    RR8_LVR_BSL_ISS-T_OLD_BI4             Basal Control   \n",
       "4    RR8_LVR_BSL_ISS-T_OLD_BI5             Basal Control   \n",
       "..                         ...                       ...   \n",
       "136   RR8_LVR_VIV_LAR_OLD_VL15          Vivarium Control   \n",
       "137   RR8_LVR_VIV_LAR_OLD_VL16          Vivarium Control   \n",
       "138   RR8_LVR_VIV_LAR_YNG_VL17          Vivarium Control   \n",
       "139   RR8_LVR_VIV_LAR_YNG_VL18          Vivarium Control   \n",
       "140   RR8_LVR_VIV_LAR_OLD_VL20          Vivarium Control   \n",
       "\n",
       "    Factor Value[Duration]  Factor Value[Age]  \\\n",
       "0                        0               32.0   \n",
       "1                        0               32.0   \n",
       "2                        0               32.0   \n",
       "3                        0               32.0   \n",
       "4                        0               32.0   \n",
       "..                     ...                ...   \n",
       "136                    ~40               32.0   \n",
       "137                    ~40               32.0   \n",
       "138                    ~40                NaN   \n",
       "139                    ~40                NaN   \n",
       "140                    ~40               32.0   \n",
       "\n",
       "    Factor Value[Euthanasia Location] Age Category  \n",
       "0                            On Earth          Old  \n",
       "1                            On Earth          Old  \n",
       "2                            On Earth          Old  \n",
       "3                            On Earth          Old  \n",
       "4                            On Earth          Old  \n",
       "..                                ...          ...  \n",
       "136                          On Earth          Old  \n",
       "137                          On Earth          Old  \n",
       "138                          On Earth        Young  \n",
       "139                          On Earth        Young  \n",
       "140                          On Earth          Old  \n",
       "\n",
       "[141 rows x 6 columns]"
      ]
     },
     "execution_count": 62,
     "metadata": {},
     "output_type": "execute_result"
    }
   ],
   "source": [
    "# Assuming 'space_flight' is your DataFrame\n",
    "\n",
    "# Convert the 'Factor Value[Age]' column to numeric, forcing errors to NaN\n",
    "space_fligth['Factor Value[Age]'] = pd.to_numeric(space_fligth['Factor Value[Age]'], errors='coerce')\n",
    "\n",
    "# Apply the lambda function to create the 'Age Category' column\n",
    "space_fligth['Age Category'] = space_fligth['Factor Value[Age]'].apply(lambda x: 'Old' if x >= 32 else 'Young')\n",
    "\n",
    "# Create a copy of the DataFrame\n",
    "space_flight_copy = space_fligth.copy()\n",
    "space_flight_copy\n",
    "\n"
   ]
  },
  {
   "cell_type": "code",
   "execution_count": 63,
   "id": "ad76cb1e",
   "metadata": {},
   "outputs": [
    {
     "data": {
      "text/plain": [
       "array(['On Earth', 'On ISS'], dtype=object)"
      ]
     },
     "execution_count": 63,
     "metadata": {},
     "output_type": "execute_result"
    }
   ],
   "source": [
    "osd_liver['Factor Value[Euthanasia Location]'].unique()"
   ]
  },
  {
   "cell_type": "code",
   "execution_count": 64,
   "id": "e1ec91fa",
   "metadata": {},
   "outputs": [
    {
     "data": {
      "text/html": [
       "<div>\n",
       "<style scoped>\n",
       "    .dataframe tbody tr th:only-of-type {\n",
       "        vertical-align: middle;\n",
       "    }\n",
       "\n",
       "    .dataframe tbody tr th {\n",
       "        vertical-align: top;\n",
       "    }\n",
       "\n",
       "    .dataframe thead th {\n",
       "        text-align: right;\n",
       "    }\n",
       "</style>\n",
       "<table border=\"1\" class=\"dataframe\">\n",
       "  <thead>\n",
       "    <tr style=\"text-align: right;\">\n",
       "      <th>Age Category</th>\n",
       "      <th>Old</th>\n",
       "      <th>Young</th>\n",
       "    </tr>\n",
       "    <tr>\n",
       "      <th>Factor Value[Spaceflight]</th>\n",
       "      <th></th>\n",
       "      <th></th>\n",
       "    </tr>\n",
       "  </thead>\n",
       "  <tbody>\n",
       "    <tr>\n",
       "      <th>Basal Control</th>\n",
       "      <td>19</td>\n",
       "      <td>19</td>\n",
       "    </tr>\n",
       "    <tr>\n",
       "      <th>Ground Control</th>\n",
       "      <td>17</td>\n",
       "      <td>18</td>\n",
       "    </tr>\n",
       "    <tr>\n",
       "      <th>Space Flight</th>\n",
       "      <td>17</td>\n",
       "      <td>18</td>\n",
       "    </tr>\n",
       "    <tr>\n",
       "      <th>Vivarium Control</th>\n",
       "      <td>16</td>\n",
       "      <td>17</td>\n",
       "    </tr>\n",
       "  </tbody>\n",
       "</table>\n",
       "</div>"
      ],
      "text/plain": [
       "Age Category               Old  Young\n",
       "Factor Value[Spaceflight]            \n",
       "Basal Control               19     19\n",
       "Ground Control              17     18\n",
       "Space Flight                17     18\n",
       "Vivarium Control            16     17"
      ]
     },
     "execution_count": 64,
     "metadata": {},
     "output_type": "execute_result"
    }
   ],
   "source": [
    "age_counts = space_fligth.groupby(['Factor Value[Spaceflight]', 'Age Category']).size().unstack(fill_value=0)\n",
    "age_counts"
   ]
  },
  {
   "cell_type": "code",
   "execution_count": 65,
   "id": "ca374dec",
   "metadata": {},
   "outputs": [
    {
     "data": {
      "text/html": [
       "<div>\n",
       "<style scoped>\n",
       "    .dataframe tbody tr th:only-of-type {\n",
       "        vertical-align: middle;\n",
       "    }\n",
       "\n",
       "    .dataframe tbody tr th {\n",
       "        vertical-align: top;\n",
       "    }\n",
       "\n",
       "    .dataframe thead th {\n",
       "        text-align: right;\n",
       "    }\n",
       "</style>\n",
       "<table border=\"1\" class=\"dataframe\">\n",
       "  <thead>\n",
       "    <tr style=\"text-align: right;\">\n",
       "      <th>Factor Value[Euthanasia Location]</th>\n",
       "      <th>On Earth</th>\n",
       "      <th>On ISS</th>\n",
       "    </tr>\n",
       "    <tr>\n",
       "      <th>Factor Value[Spaceflight]</th>\n",
       "      <th></th>\n",
       "      <th></th>\n",
       "    </tr>\n",
       "  </thead>\n",
       "  <tbody>\n",
       "    <tr>\n",
       "      <th>Basal Control</th>\n",
       "      <td>38</td>\n",
       "      <td>0</td>\n",
       "    </tr>\n",
       "    <tr>\n",
       "      <th>Ground Control</th>\n",
       "      <td>35</td>\n",
       "      <td>0</td>\n",
       "    </tr>\n",
       "    <tr>\n",
       "      <th>Space Flight</th>\n",
       "      <td>15</td>\n",
       "      <td>20</td>\n",
       "    </tr>\n",
       "    <tr>\n",
       "      <th>Vivarium Control</th>\n",
       "      <td>33</td>\n",
       "      <td>0</td>\n",
       "    </tr>\n",
       "  </tbody>\n",
       "</table>\n",
       "</div>"
      ],
      "text/plain": [
       "Factor Value[Euthanasia Location]  On Earth  On ISS\n",
       "Factor Value[Spaceflight]                          \n",
       "Basal Control                            38       0\n",
       "Ground Control                           35       0\n",
       "Space Flight                             15      20\n",
       "Vivarium Control                         33       0"
      ]
     },
     "execution_count": 65,
     "metadata": {},
     "output_type": "execute_result"
    }
   ],
   "source": [
    "euthanasia = space_fligth.groupby(['Factor Value[Spaceflight]', 'Factor Value[Euthanasia Location]']).size().unstack(fill_value=0)\n",
    "euthanasia"
   ]
  },
  {
   "cell_type": "code",
   "execution_count": 66,
   "id": "475b7475",
   "metadata": {},
   "outputs": [
    {
     "ename": "NameError",
     "evalue": "name 'plt' is not defined",
     "output_type": "error",
     "traceback": [
      "\u001b[1;31m---------------------------------------------------------------------------\u001b[0m",
      "\u001b[1;31mNameError\u001b[0m                                 Traceback (most recent call last)",
      "Cell \u001b[1;32mIn[66], line 2\u001b[0m\n\u001b[0;32m      1\u001b[0m \u001b[38;5;66;03m# Set the plot size\u001b[39;00m\n\u001b[1;32m----> 2\u001b[0m plt\u001b[38;5;241m.\u001b[39mfigure(figsize\u001b[38;5;241m=\u001b[39m(\u001b[38;5;241m15\u001b[39m, \u001b[38;5;241m8\u001b[39m))\n\u001b[0;32m      4\u001b[0m \u001b[38;5;66;03m# Create a scatter plot with Seaborn\u001b[39;00m\n\u001b[0;32m      5\u001b[0m sns\u001b[38;5;241m.\u001b[39mscatterplot(x\u001b[38;5;241m=\u001b[39m\u001b[38;5;124m'\u001b[39m\u001b[38;5;124mSample Name\u001b[39m\u001b[38;5;124m'\u001b[39m, y\u001b[38;5;241m=\u001b[39m\u001b[38;5;124m'\u001b[39m\u001b[38;5;124mFactor Value[Duration]\u001b[39m\u001b[38;5;124m'\u001b[39m, hue\u001b[38;5;241m=\u001b[39m\u001b[38;5;124m'\u001b[39m\u001b[38;5;124mAge Category\u001b[39m\u001b[38;5;124m'\u001b[39m, style\u001b[38;5;241m=\u001b[39m\u001b[38;5;124m'\u001b[39m\u001b[38;5;124mFactor Value[Spaceflight]\u001b[39m\u001b[38;5;124m'\u001b[39m, data\u001b[38;5;241m=\u001b[39mspace_fligth, s\u001b[38;5;241m=\u001b[39m\u001b[38;5;241m100\u001b[39m)\n",
      "\u001b[1;31mNameError\u001b[0m: name 'plt' is not defined"
     ]
    }
   ],
   "source": [
    "# Set the plot size\n",
    "plt.figure(figsize=(15, 8))\n",
    "\n",
    "# Create a scatter plot with Seaborn\n",
    "sns.scatterplot(x='Sample Name', y='Factor Value[Duration]', hue='Age Category', style='Factor Value[Spaceflight]', data=space_fligth, s=100)\n",
    "\n",
    "# Rotate the x labels for readability\n",
    "plt.xticks(rotation=90)\n",
    "\n",
    "# Title and labels\n",
    "plt.title('Spaceflight Duration vs Sample Name by Age Category', fontsize=16)\n",
    "plt.xlabel('Sample Name', fontsize=14)\n",
    "plt.ylabel('Spaceflight Duration (days)', fontsize=14)\n",
    "plt.legend(title='Age Category', loc='upper right')\n",
    "\n",
    "# Show plot\n",
    "plt.tight_layout()\n",
    "plt.show()\n"
   ]
  },
  {
   "cell_type": "code",
   "execution_count": 67,
   "id": "720af312",
   "metadata": {},
   "outputs": [
    {
     "data": {
      "text/html": [
       "<div>\n",
       "<style scoped>\n",
       "    .dataframe tbody tr th:only-of-type {\n",
       "        vertical-align: middle;\n",
       "    }\n",
       "\n",
       "    .dataframe tbody tr th {\n",
       "        vertical-align: top;\n",
       "    }\n",
       "\n",
       "    .dataframe thead th {\n",
       "        text-align: right;\n",
       "    }\n",
       "</style>\n",
       "<table border=\"1\" class=\"dataframe\">\n",
       "  <thead>\n",
       "    <tr style=\"text-align: right;\">\n",
       "      <th></th>\n",
       "      <th>Sample Name</th>\n",
       "      <th>Factor Value[Spaceflight]</th>\n",
       "      <th>Factor Value[Duration]</th>\n",
       "      <th>Factor Value[Age]</th>\n",
       "      <th>Factor Value[Euthanasia Location]</th>\n",
       "      <th>Age Category</th>\n",
       "    </tr>\n",
       "  </thead>\n",
       "  <tbody>\n",
       "    <tr>\n",
       "      <th>0</th>\n",
       "      <td>1</td>\n",
       "      <td>Basal Control</td>\n",
       "      <td>0</td>\n",
       "      <td>32.0</td>\n",
       "      <td>On Earth</td>\n",
       "      <td>Old</td>\n",
       "    </tr>\n",
       "    <tr>\n",
       "      <th>1</th>\n",
       "      <td>2</td>\n",
       "      <td>Basal Control</td>\n",
       "      <td>0</td>\n",
       "      <td>32.0</td>\n",
       "      <td>On Earth</td>\n",
       "      <td>Old</td>\n",
       "    </tr>\n",
       "    <tr>\n",
       "      <th>2</th>\n",
       "      <td>3</td>\n",
       "      <td>Basal Control</td>\n",
       "      <td>0</td>\n",
       "      <td>32.0</td>\n",
       "      <td>On Earth</td>\n",
       "      <td>Old</td>\n",
       "    </tr>\n",
       "    <tr>\n",
       "      <th>3</th>\n",
       "      <td>4</td>\n",
       "      <td>Basal Control</td>\n",
       "      <td>0</td>\n",
       "      <td>32.0</td>\n",
       "      <td>On Earth</td>\n",
       "      <td>Old</td>\n",
       "    </tr>\n",
       "    <tr>\n",
       "      <th>4</th>\n",
       "      <td>5</td>\n",
       "      <td>Basal Control</td>\n",
       "      <td>0</td>\n",
       "      <td>32.0</td>\n",
       "      <td>On Earth</td>\n",
       "      <td>Old</td>\n",
       "    </tr>\n",
       "    <tr>\n",
       "      <th>...</th>\n",
       "      <td>...</td>\n",
       "      <td>...</td>\n",
       "      <td>...</td>\n",
       "      <td>...</td>\n",
       "      <td>...</td>\n",
       "      <td>...</td>\n",
       "    </tr>\n",
       "    <tr>\n",
       "      <th>136</th>\n",
       "      <td>137</td>\n",
       "      <td>Vivarium Control</td>\n",
       "      <td>~40</td>\n",
       "      <td>32.0</td>\n",
       "      <td>On Earth</td>\n",
       "      <td>Old</td>\n",
       "    </tr>\n",
       "    <tr>\n",
       "      <th>137</th>\n",
       "      <td>138</td>\n",
       "      <td>Vivarium Control</td>\n",
       "      <td>~40</td>\n",
       "      <td>32.0</td>\n",
       "      <td>On Earth</td>\n",
       "      <td>Old</td>\n",
       "    </tr>\n",
       "    <tr>\n",
       "      <th>138</th>\n",
       "      <td>139</td>\n",
       "      <td>Vivarium Control</td>\n",
       "      <td>~40</td>\n",
       "      <td>NaN</td>\n",
       "      <td>On Earth</td>\n",
       "      <td>Young</td>\n",
       "    </tr>\n",
       "    <tr>\n",
       "      <th>139</th>\n",
       "      <td>140</td>\n",
       "      <td>Vivarium Control</td>\n",
       "      <td>~40</td>\n",
       "      <td>NaN</td>\n",
       "      <td>On Earth</td>\n",
       "      <td>Young</td>\n",
       "    </tr>\n",
       "    <tr>\n",
       "      <th>140</th>\n",
       "      <td>141</td>\n",
       "      <td>Vivarium Control</td>\n",
       "      <td>~40</td>\n",
       "      <td>32.0</td>\n",
       "      <td>On Earth</td>\n",
       "      <td>Old</td>\n",
       "    </tr>\n",
       "  </tbody>\n",
       "</table>\n",
       "<p>141 rows × 6 columns</p>\n",
       "</div>"
      ],
      "text/plain": [
       "     Sample Name Factor Value[Spaceflight] Factor Value[Duration]  \\\n",
       "0              1             Basal Control                      0   \n",
       "1              2             Basal Control                      0   \n",
       "2              3             Basal Control                      0   \n",
       "3              4             Basal Control                      0   \n",
       "4              5             Basal Control                      0   \n",
       "..           ...                       ...                    ...   \n",
       "136          137          Vivarium Control                    ~40   \n",
       "137          138          Vivarium Control                    ~40   \n",
       "138          139          Vivarium Control                    ~40   \n",
       "139          140          Vivarium Control                    ~40   \n",
       "140          141          Vivarium Control                    ~40   \n",
       "\n",
       "     Factor Value[Age] Factor Value[Euthanasia Location] Age Category  \n",
       "0                 32.0                          On Earth          Old  \n",
       "1                 32.0                          On Earth          Old  \n",
       "2                 32.0                          On Earth          Old  \n",
       "3                 32.0                          On Earth          Old  \n",
       "4                 32.0                          On Earth          Old  \n",
       "..                 ...                               ...          ...  \n",
       "136               32.0                          On Earth          Old  \n",
       "137               32.0                          On Earth          Old  \n",
       "138                NaN                          On Earth        Young  \n",
       "139                NaN                          On Earth        Young  \n",
       "140               32.0                          On Earth          Old  \n",
       "\n",
       "[141 rows x 6 columns]"
      ]
     },
     "execution_count": 67,
     "metadata": {},
     "output_type": "execute_result"
    }
   ],
   "source": [
    "space_fligth['Sample Name'] = range(1, len(space_fligth) + 1)\n",
    "space_fligth\n"
   ]
  },
  {
   "cell_type": "code",
   "execution_count": 68,
   "id": "cdc89405",
   "metadata": {},
   "outputs": [
    {
     "data": {
      "text/plain": [
       "array(['32', '10 to 12'], dtype=object)"
      ]
     },
     "execution_count": 68,
     "metadata": {},
     "output_type": "execute_result"
    }
   ],
   "source": [
    "new_osd_liver['Factor Value[Age]'].unique()"
   ]
  },
  {
   "cell_type": "code",
   "execution_count": null,
   "id": "a09e54af-249a-49a4-9aa4-86cc9480ecdc",
   "metadata": {},
   "outputs": [],
   "source": []
  },
  {
   "cell_type": "code",
   "execution_count": 69,
   "id": "280245c2",
   "metadata": {},
   "outputs": [
    {
     "ename": "ModuleNotFoundError",
     "evalue": "No module named 'seaborn'",
     "output_type": "error",
     "traceback": [
      "\u001b[1;31m---------------------------------------------------------------------------\u001b[0m",
      "\u001b[1;31mModuleNotFoundError\u001b[0m                       Traceback (most recent call last)",
      "Cell \u001b[1;32mIn[69], line 1\u001b[0m\n\u001b[1;32m----> 1\u001b[0m \u001b[38;5;28;01mimport\u001b[39;00m \u001b[38;5;21;01mseaborn\u001b[39;00m \u001b[38;5;28;01mas\u001b[39;00m \u001b[38;5;21;01msns\u001b[39;00m\n\u001b[0;32m      2\u001b[0m \u001b[38;5;28;01mimport\u001b[39;00m \u001b[38;5;21;01mmatplotlib\u001b[39;00m\u001b[38;5;21;01m.\u001b[39;00m\u001b[38;5;21;01mpyplot\u001b[39;00m \u001b[38;5;28;01mas\u001b[39;00m \u001b[38;5;21;01mplt\u001b[39;00m\n",
      "\u001b[1;31mModuleNotFoundError\u001b[0m: No module named 'seaborn'"
     ]
    }
   ],
   "source": [
    "import seaborn as sns\n",
    "import matplotlib.pyplot as plt"
   ]
  },
  {
   "cell_type": "code",
   "execution_count": null,
   "id": "4f1ce5b2",
   "metadata": {},
   "outputs": [],
   "source": []
  },
  {
   "cell_type": "code",
   "execution_count": null,
   "id": "d5994bad",
   "metadata": {},
   "outputs": [],
   "source": []
  },
  {
   "cell_type": "code",
   "execution_count": null,
   "id": "98c0e74a-49d4-4d9f-b126-7e879cf17005",
   "metadata": {},
   "outputs": [],
   "source": []
  }
 ],
 "metadata": {
  "kernelspec": {
   "display_name": "Python 3 (ipykernel)",
   "language": "python",
   "name": "python3"
  },
  "language_info": {
   "codemirror_mode": {
    "name": "ipython",
    "version": 3
   },
   "file_extension": ".py",
   "mimetype": "text/x-python",
   "name": "python",
   "nbconvert_exporter": "python",
   "pygments_lexer": "ipython3",
   "version": "3.12.5"
  },
  "toc": {
   "base_numbering": 1,
   "nav_menu": {},
   "number_sections": true,
   "sideBar": true,
   "skip_h1_title": false,
   "title_cell": "Table of Contents",
   "title_sidebar": "Contents",
   "toc_cell": false,
   "toc_position": {},
   "toc_section_display": true,
   "toc_window_display": false
  }
 },
 "nbformat": 4,
 "nbformat_minor": 5
}
